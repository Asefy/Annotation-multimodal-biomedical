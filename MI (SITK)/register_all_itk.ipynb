{
 "cells": [
  {
   "cell_type": "code",
   "execution_count": 2,
   "id": "acting-uniform",
   "metadata": {},
   "outputs": [],
   "source": [
    "import registration_itk as reg"
   ]
  },
  {
   "cell_type": "code",
   "execution_count": 3,
   "id": "interpreted-senegal",
   "metadata": {},
   "outputs": [
    {
     "name": "stdout",
     "output_type": "stream",
     "text": [
      "[2021-08-21 19:43:02,446][INFO] [GET] [currentuser] CURRENT USER - 177562932 : sbernard | 200 OK\n",
      "[currentuser] CURRENT USER - 177562932 : sbernard\n"
     ]
    }
   ],
   "source": [
    "host=\"https://research.cytomine.be/\"\n",
    "\n",
    "# FILL IN WITH YOUR PUBLIC/PRIVATE KEY\n",
    "public_key=\"xxxxxxxx-xxxx-xxxx-xxxx-xxxxxxxxxxxx\"\n",
    "private_key=\"xxxxxxxx-xxxx-xxxx-xxxx-xxxxxxxxxxxx\"\n",
    "\n",
    "cytomine = reg.Cytomine.connect(host, public_key, private_key)\n",
    "print(cytomine.current_user)\n",
    "\n",
    "# CHANGE ID PROJECT IF NOT WORKING ON \"KI-gastrointestinal\"\n",
    "id_project = 526102245 "
   ]
  },
  {
   "cell_type": "code",
   "execution_count": 4,
   "id": "stunning-vitamin",
   "metadata": {},
   "outputs": [
    {
     "name": "stdout",
     "output_type": "stream",
     "text": [
      "[2021-08-21 19:43:02,547][INFO] [GET] [annotationgroup collection] 28 objects | 200 OK\n"
     ]
    }
   ],
   "source": [
    "annot_group_coll = reg.AnnotationGroupCollection().fetch_with_filter(\"project\", id_project)"
   ]
  },
  {
   "cell_type": "code",
   "execution_count": 5,
   "id": "accepted-cemetery",
   "metadata": {},
   "outputs": [],
   "source": [
    "# Chose the technique to use\n",
    "\"\"\"\n",
    "full_aff :  True|False -> try to find a full affine transform if True (ONLY AVAILABLE FOR V1),\n",
    "                find an affine without shearing otherwise (default)\n",
    "\"\"\"\n",
    "# Transform (for \"single\" only)\n",
    "full_aff=False\n"
   ]
  },
  {
   "cell_type": "code",
   "execution_count": null,
   "id": "average-indication",
   "metadata": {},
   "outputs": [
    {
     "name": "stdout",
     "output_type": "stream",
     "text": [
      "\tAnnotation group : 526756968\n",
      "[2021-08-21 19:43:02,922][INFO] [GET] [annotationlink collection] 25 objects | 200 OK\n",
      "[2021-08-21 19:43:02,985][INFO] [GET] [annotation] 526756977 | 200 OK\n",
      "[2021-08-21 19:43:03,043][INFO] [GET] [imageinstance] 526176189 : PKR-2-muc5ac_muc6.ndpi | 200 OK\n",
      "[2021-08-21 19:43:03,115][INFO] [GET] [annotation] 526756991 | 200 OK\n",
      "[2021-08-21 19:43:03,174][INFO] [GET] [imageinstance] 526175723 : PKR-2-wt1_ca125.ndpi | 200 OK\n",
      "\t\t526756977 (from 526176189) MAPPED TO 526756991 (from 526175723)\n",
      "Check validity (move)\n",
      "[2021-08-21 19:43:03,808][INFO] File downloaded successfully from https://research.cytomine.be/api/imageinstance/526176189/window-50336-35354-18775-14786.png with parameters {'bits': 8, 'complete': True, 'maxSize': 512}\n",
      "[2021-08-21 19:43:04,309][INFO] File downloaded successfully from https://research.cytomine.be/api/imageinstance/526175723/window-46194-33436-18775-14786.png with parameters {'bits': 8, 'complete': True, 'maxSize': 512}\n",
      "0.9027252521056365\n",
      "########################### PROGRESS ###########################\n",
      "annot_grp_n_pairs=[1]\n",
      "################################################################\n",
      "[2021-08-21 19:43:04,510][INFO] [GET] [annotation] 526757005 | 200 OK\n",
      "[2021-08-21 19:43:04,583][INFO] [GET] [imageinstance] 526175257 : PKR-2-ki67_p16.ndpi | 200 OK\n",
      "\t\t526756977 (from 526176189) MAPPED TO 526757005 (from 526175257)\n",
      "Check validity (move)\n",
      "[2021-08-21 19:43:04,908][INFO] File downloaded successfully from https://research.cytomine.be/api/imageinstance/526176189/window-50336-35354-18775-14786.png with parameters {'bits': 8, 'complete': True, 'maxSize': 512}\n",
      "[2021-08-21 19:43:05,576][INFO] File downloaded successfully from https://research.cytomine.be/api/imageinstance/526175257/window-70968-34916-18775-14786.png with parameters {'bits': 8, 'complete': True, 'maxSize': 512}\n",
      "0.9507460319876776\n",
      "########################### PROGRESS ###########################\n",
      "annot_grp_n_pairs=[2]\n",
      "################################################################\n",
      "[2021-08-21 19:43:05,739][INFO] [GET] [annotation] 526757019 | 200 OK\n",
      "[2021-08-21 19:43:05,796][INFO] [GET] [imageinstance] 526174325 : PKR-2-smad4.ndpi | 200 OK\n",
      "\t\t526756977 (from 526176189) MAPPED TO 526757019 (from 526174325)\n",
      "Check validity (move)\n",
      "[2021-08-21 19:43:06,274][INFO] File downloaded successfully from https://research.cytomine.be/api/imageinstance/526176189/window-50336-35354-18775-14786.png with parameters {'bits': 8, 'complete': True, 'maxSize': 512}\n",
      "[2021-08-21 19:43:06,920][INFO] File downloaded successfully from https://research.cytomine.be/api/imageinstance/526174325/window-69424-28999-18775-14786.png with parameters {'bits': 8, 'complete': True, 'maxSize': 512}\n",
      "0.9101086540100777\n",
      "########################### PROGRESS ###########################\n",
      "annot_grp_n_pairs=[3]\n",
      "################################################################\n",
      "[2021-08-21 19:43:07,108][INFO] [GET] [annotation] 526757033 | 200 OK\n",
      "[2021-08-21 19:43:07,165][INFO] [GET] [imageinstance] 526173859 : PKR-2-ki67_vim.ndpi | 200 OK\n",
      "\t\t526756977 (from 526176189) MAPPED TO 526757033 (from 526173859)\n",
      "Check validity (move)\n",
      "[2021-08-21 19:43:07,619][INFO] File downloaded successfully from https://research.cytomine.be/api/imageinstance/526176189/window-50336-35354-18775-14786.png with parameters {'bits': 8, 'complete': True, 'maxSize': 512}\n",
      "[2021-08-21 19:43:08,237][INFO] File downloaded successfully from https://research.cytomine.be/api/imageinstance/526173859/window-66465-34889-18775-14786.png with parameters {'bits': 8, 'complete': True, 'maxSize': 512}\n",
      "0.8871615079136499\n",
      "########################### PROGRESS ###########################\n",
      "annot_grp_n_pairs=[4]\n",
      "################################################################\n",
      "[2021-08-21 19:43:08,443][INFO] [GET] [annotation] 526757047 | 200 OK\n",
      "[2021-08-21 19:43:08,499][INFO] [GET] [imageinstance] 526173393 : PKR-2-p53_cd34_cald_ck19.ndpi | 200 OK\n",
      "\t\t526756977 (from 526176189) MAPPED TO 526757047 (from 526173393)\n",
      "Check validity (move)\n",
      "[2021-08-21 19:43:08,986][INFO] File downloaded successfully from https://research.cytomine.be/api/imageinstance/526176189/window-50336-35354-18775-14786.png with parameters {'bits': 8, 'complete': True, 'maxSize': 512}\n",
      "[2021-08-21 19:43:09,588][INFO] File downloaded successfully from https://research.cytomine.be/api/imageinstance/526173393/window-57661-37610-18775-14230.png with parameters {'bits': 8, 'complete': True, 'maxSize': 512}\n",
      "0.9132335397087272\n",
      "########################### PROGRESS ###########################\n",
      "annot_grp_n_pairs=[5]\n",
      "################################################################\n",
      "[2021-08-21 19:43:09,818][INFO] [GET] [annotation] 526757061 | 200 OK\n",
      "[2021-08-21 19:43:09,877][INFO] [GET] [imageinstance] 526172927 : PKR-2-pdl1_cd8.ndpi | 200 OK\n",
      "\t\t526756977 (from 526176189) MAPPED TO 526757061 (from 526172927)\n",
      "Check validity (move)\n",
      "[2021-08-21 19:43:10,273][INFO] File downloaded successfully from https://research.cytomine.be/api/imageinstance/526176189/window-50336-35354-18775-14786.png with parameters {'bits': 8, 'complete': True, 'maxSize': 512}\n",
      "[2021-08-21 19:43:10,817][INFO] File downloaded successfully from https://research.cytomine.be/api/imageinstance/526172927/window-62225-35361-18775-14786.png with parameters {'bits': 8, 'complete': True, 'maxSize': 512}\n",
      "0.9447959031848908\n",
      "########################### PROGRESS ###########################\n",
      "annot_grp_n_pairs=[6]\n",
      "################################################################\n",
      "[2021-08-21 19:43:10,976][INFO] [GET] [annotation] 526757075 | 200 OK\n",
      "[2021-08-21 19:43:11,036][INFO] [GET] [imageinstance] 526172461 : PKR-2-pdl1.ndpi | 200 OK\n"
     ]
    }
   ],
   "source": [
    "reg.metrics_reg_all(annot_group_coll, \n",
    "                    init_path_imgs=\"fetched_imgs/\",\n",
    "                    full_aff=full_aff)"
   ]
  },
  {
   "cell_type": "code",
   "execution_count": null,
   "id": "center-european",
   "metadata": {},
   "outputs": [],
   "source": []
  }
 ],
 "metadata": {
  "kernelspec": {
   "display_name": "Python 3",
   "language": "python",
   "name": "python3"
  },
  "language_info": {
   "codemirror_mode": {
    "name": "ipython",
    "version": 3
   },
   "file_extension": ".py",
   "mimetype": "text/x-python",
   "name": "python",
   "nbconvert_exporter": "python",
   "pygments_lexer": "ipython3",
   "version": "3.8.5"
  }
 },
 "nbformat": 4,
 "nbformat_minor": 5
}
