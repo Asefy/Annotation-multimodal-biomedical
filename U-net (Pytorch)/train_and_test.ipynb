{
 "cells": [
  {
   "cell_type": "markdown",
   "id": "3a1fd2fb",
   "metadata": {},
   "source": [
    "# Training"
   ]
  },
  {
   "cell_type": "code",
   "execution_count": null,
   "id": "1b0f0f6d",
   "metadata": {},
   "outputs": [],
   "source": [
    "import torch\n",
    "\n",
    "import train as tr\n",
    "from unet import UNet"
   ]
  },
  {
   "cell_type": "code",
   "execution_count": null,
   "id": "6e7eaddd",
   "metadata": {},
   "outputs": [],
   "source": [
    "# choose the upsampling strategy\n",
    "# True for Bilinear, False for UpConvolution\n",
    "up_bilinear = True\n",
    "\n",
    "# choose the loss\n",
    "# \"iou\" or \"bce\"\n",
    "loss = \"iou\"\n",
    "\n",
    "# choose the number of epochs\n",
    "n_epoch = 20"
   ]
  },
  {
   "cell_type": "code",
   "execution_count": null,
   "id": "03fb7dcb",
   "metadata": {},
   "outputs": [],
   "source": [
    "net = UNet(n_channels=3, bilinear=up_bilinear)\n",
    "device = torch.device('cuda' if torch.cuda.is_available() else 'cpu')\n",
    "net.to(device=device)\n",
    "print(device)"
   ]
  },
  {
   "cell_type": "code",
   "execution_count": null,
   "id": "59224b41",
   "metadata": {},
   "outputs": [],
   "source": [
    "tr.train_net(net,\n",
    "              device,\n",
    "              epochs=n_epoch,\n",
    "              batch_size=1,\n",
    "              lr=0.001,\n",
    "              save_cp=True,\n",
    "              img_scale=1,\n",
    "              loss=loss)"
   ]
  },
  {
   "cell_type": "markdown",
   "id": "3018a2f5",
   "metadata": {},
   "source": [
    "# Testing"
   ]
  },
  {
   "cell_type": "code",
   "execution_count": null,
   "id": "2fe727c2",
   "metadata": {},
   "outputs": [],
   "source": [
    "import torch\n",
    "from torch.utils.data import DataLoader\n",
    "\n",
    "import eval\n",
    "from unet import UNet\n",
    "import utils.dataset as ds"
   ]
  },
  {
   "cell_type": "code",
   "execution_count": null,
   "id": "8b425750",
   "metadata": {},
   "outputs": [],
   "source": [
    "n_epoch_test = n_epoch\n",
    "weights_path = \"checkpoints/CP_epoch\"+str(n_epoch_test)+\".pth\"\n",
    "\n",
    "up_bilinear_test = up_bilinear"
   ]
  },
  {
   "cell_type": "code",
   "execution_count": null,
   "id": "a0de214e",
   "metadata": {},
   "outputs": [],
   "source": [
    "net = UNet(n_channels=3, bilinear=True)\n",
    "device = torch.device('cuda' if torch.cuda.is_available() else 'cpu')\n",
    "net.to(device=device)\n",
    "print(device)"
   ]
  },
  {
   "cell_type": "code",
   "execution_count": null,
   "id": "c53f844b",
   "metadata": {},
   "outputs": [],
   "source": [
    "net.load_state_dict(torch.load(weights_path, map_location=device))"
   ]
  },
  {
   "cell_type": "code",
   "execution_count": null,
   "id": "c0bf44b6",
   "metadata": {},
   "outputs": [],
   "source": [
    "test_ds = ds.BasicDataset(\"dataset_custom/\", img_scale=1, my_set=\"test\", data_aug=False)\n",
    "print(len(test_ds))\n",
    "test_loader = DataLoader(test_ds, batch_size=1, shuffle=False, num_workers=4, pin_memory=True)"
   ]
  },
  {
   "cell_type": "code",
   "execution_count": null,
   "id": "c811ee1d",
   "metadata": {},
   "outputs": [],
   "source": [
    "# TEST SCORE\n",
    "test_score = eval.eval_net(net, test_loader, device)\n",
    "\n",
    "print(test_score)"
   ]
  },
  {
   "cell_type": "markdown",
   "id": "49096694",
   "metadata": {},
   "source": [
    "# Prediction"
   ]
  },
  {
   "cell_type": "code",
   "execution_count": null,
   "id": "717cf066",
   "metadata": {},
   "outputs": [],
   "source": [
    "import predict as pred\n",
    "import numpy as np\n",
    "from PIL import Image\n",
    "from torchvision import transforms"
   ]
  },
  {
   "cell_type": "code",
   "execution_count": null,
   "id": "9f846d8b",
   "metadata": {},
   "outputs": [],
   "source": [
    "nbr_sample = 40\n",
    "nbr_sample %= len(test_ds)\n",
    "\n",
    "img, grnd = test_ds[nbr_sample]\n",
    "\n",
    "print(\"Sample {}/{}\".format(nbr_sample, len(test_ds)-1))"
   ]
  },
  {
   "cell_type": "code",
   "execution_count": null,
   "id": "b2002cdc",
   "metadata": {},
   "outputs": [],
   "source": [
    "mask = pred.predict_img(net,\n",
    "                img,\n",
    "                device,\n",
    "                out_threshold=0.5)"
   ]
  },
  {
   "cell_type": "code",
   "execution_count": null,
   "id": "58943b4c",
   "metadata": {},
   "outputs": [],
   "source": [
    "gray1 = transforms.ToPILImage()(img[0])\n",
    "gray2 = transforms.ToPILImage()(img[2])\n",
    "mask1 = transforms.ToPILImage()(img[1])\n",
    "mask2 = transforms.ToPILImage()(grnd)\n",
    "\n",
    "mask2_pred = mask.astype(int)\n",
    "\n",
    "mask2_pred = Image.fromarray(np.uint8(mask2_pred*255))\n",
    "print(\"Grayscale window from moving image (input 1)\")\n",
    "display(gray1)\n",
    "print(\"Mask annotation from moving image (input 2)\")\n",
    "display(mask1)\n",
    "print(\"Grayscale window from fixed image (input 3)\")\n",
    "display(gray2)\n",
    "print(\"Mask annotation from fixed image (ground truth)\")\n",
    "display(mask2)\n",
    "print(\"Mask annotation predicted from fixed image (output)\")\n",
    "display(mask2_pred)"
   ]
  },
  {
   "cell_type": "code",
   "execution_count": null,
   "id": "f3c4cb85",
   "metadata": {},
   "outputs": [],
   "source": []
  }
 ],
 "metadata": {
  "kernelspec": {
   "display_name": "Python 3 (ipykernel)",
   "language": "python",
   "name": "python3"
  },
  "language_info": {
   "codemirror_mode": {
    "name": "ipython",
    "version": 3
   },
   "file_extension": ".py",
   "mimetype": "text/x-python",
   "name": "python",
   "nbconvert_exporter": "python",
   "pygments_lexer": "ipython3",
   "version": "3.9.6"
  }
 },
 "nbformat": 4,
 "nbformat_minor": 5
}
