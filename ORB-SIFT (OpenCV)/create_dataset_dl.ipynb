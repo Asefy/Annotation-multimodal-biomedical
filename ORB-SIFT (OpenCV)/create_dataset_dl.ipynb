{
 "cells": [
  {
   "cell_type": "code",
   "execution_count": 1,
   "id": "statutory-parent",
   "metadata": {},
   "outputs": [],
   "source": [
    "import build_dataset as bd"
   ]
  },
  {
   "cell_type": "code",
   "execution_count": 2,
   "id": "frequent-distance",
   "metadata": {},
   "outputs": [
    {
     "name": "stdout",
     "output_type": "stream",
     "text": [
      "[2021-08-21 20:03:07,356][INFO] [GET] [currentuser] CURRENT USER - 177562932 : sbernard | 200 OK\n",
      "[currentuser] CURRENT USER - 177562932 : sbernard\n"
     ]
    }
   ],
   "source": [
    "host=\"https://research.cytomine.be/\"\n",
    "\n",
    "# FILL IN WITH YOUR PUBLIC/PRIVATE KEY\n",
    "public_key=\"xxxxxxxx-xxxx-xxxx-xxxx-xxxxxxxxxxxx\"\n",
    "private_key=\"xxxxxxxx-xxxx-xxxx-xxxx-xxxxxxxxxxxx\"\n",
    "\n",
    "cytomine = Cytomine.connect(host, public_key, private_key)\n",
    "print(cytomine.current_user)\n",
    "\n",
    "# CHANGE ID PROJECT IF NOT WORKING ON \"KI-gastrointestinal\"\n",
    "id_project = 526102245 "
   ]
  },
  {
   "cell_type": "code",
   "execution_count": 3,
   "id": "olympic-hollywood",
   "metadata": {},
   "outputs": [
    {
     "name": "stdout",
     "output_type": "stream",
     "text": [
      "[2021-08-21 20:03:07,520][INFO] [GET] [annotationgroup collection] 28 objects | 200 OK\n"
     ]
    }
   ],
   "source": [
    "annot_group_coll = bd.AnnotationGroupCollection().fetch_with_filter(\"project\", id_project)"
   ]
  },
  {
   "cell_type": "code",
   "execution_count": null,
   "id": "secure-practitioner",
   "metadata": {},
   "outputs": [
    {
     "name": "stdout",
     "output_type": "stream",
     "text": [
      "\tAnnotation group : 526756968\n",
      "[2021-08-21 20:03:07,726][INFO] [GET] [annotationlink collection] 25 objects | 200 OK\n",
      "[2021-08-21 20:03:07,879][INFO] [GET] [annotation] 526756977 | 200 OK\n",
      "[2021-08-21 20:03:07,940][INFO] [GET] [imageinstance] 526176189 : PKR-2-muc5ac_muc6.ndpi | 200 OK\n",
      "[2021-08-21 20:03:08,010][INFO] [GET] [annotation] 526756991 | 200 OK\n",
      "[2021-08-21 20:03:08,078][INFO] [GET] [imageinstance] 526175723 : PKR-2-wt1_ca125.ndpi | 200 OK\n",
      "\t\t526756977 (from 526176189) MAPPED TO 526756991 (from 526175723)\n",
      "1\n",
      "\"PKR-2-muc5ac_muc6(526756977)+PKR-2-wt1_ca125(526756991)\" already exist\n",
      "[2021-08-21 20:03:08,142][INFO] [GET] [annotation] 526757005 | 200 OK\n",
      "[2021-08-21 20:03:08,201][INFO] [GET] [imageinstance] 526175257 : PKR-2-ki67_p16.ndpi | 200 OK\n",
      "\t\t526756977 (from 526176189) MAPPED TO 526757005 (from 526175257)\n",
      "2\n",
      "\"PKR-2-muc5ac_muc6(526756977)+PKR-2-ki67_p16(526757005)\" already exist\n",
      "[2021-08-21 20:03:08,269][INFO] [GET] [annotation] 526757019 | 200 OK\n",
      "[2021-08-21 20:03:08,327][INFO] [GET] [imageinstance] 526174325 : PKR-2-smad4.ndpi | 200 OK\n",
      "\t\t526756977 (from 526176189) MAPPED TO 526757019 (from 526174325)\n",
      "3\n",
      "\"PKR-2-muc5ac_muc6(526756977)+PKR-2-smad4(526757019)\" already exist\n",
      "[2021-08-21 20:03:08,387][INFO] [GET] [annotation] 526757033 | 200 OK\n",
      "[2021-08-21 20:03:08,440][INFO] [GET] [imageinstance] 526173859 : PKR-2-ki67_vim.ndpi | 200 OK\n",
      "\t\t526756977 (from 526176189) MAPPED TO 526757033 (from 526173859)\n",
      "4\n",
      "[2021-08-21 20:03:09,346][INFO] File downloaded successfully from https://research.cytomine.be/api/imageinstance/526176189/window-50147-32563-18776-18776.png with parameters {'bits': 8, 'complete': True, 'maxSize': 1024}\n",
      "[2021-08-21 20:03:09,996][INFO] File downloaded successfully from https://research.cytomine.be/api/imageinstance/526173859/window-69407-35894-12517-12517.png with parameters {'bits': 8, 'complete': True, 'maxSize': 512}\n",
      "[2021-08-21 20:03:10,161][INFO] [GET] [annotation] 526757047 | 200 OK\n",
      "[2021-08-21 20:03:10,224][INFO] [GET] [imageinstance] 526173393 : PKR-2-p53_cd34_cald_ck19.ndpi | 200 OK\n",
      "\t\t526756977 (from 526176189) MAPPED TO 526757047 (from 526173393)\n",
      "5\n",
      "[2021-08-21 20:03:11,044][INFO] File downloaded successfully from https://research.cytomine.be/api/imageinstance/526176189/window-50147-32563-18776-18776.png with parameters {'bits': 8, 'complete': True, 'maxSize': 1024}\n",
      "[2021-08-21 20:03:11,751][INFO] File downloaded successfully from https://research.cytomine.be/api/imageinstance/526173393/window-60610-38603-12517-12517.png with parameters {'bits': 8, 'complete': True, 'maxSize': 512}\n",
      "[2021-08-21 20:03:11,921][INFO] [GET] [annotation] 526757061 | 200 OK\n",
      "[2021-08-21 20:03:11,982][INFO] [GET] [imageinstance] 526172927 : PKR-2-pdl1_cd8.ndpi | 200 OK\n",
      "\t\t526756977 (from 526176189) MAPPED TO 526757061 (from 526172927)\n",
      "6\n",
      "[2021-08-21 20:03:12,795][INFO] File downloaded successfully from https://research.cytomine.be/api/imageinstance/526176189/window-50147-32563-18776-18776.png with parameters {'bits': 8, 'complete': True, 'maxSize': 1024}\n",
      "[2021-08-21 20:03:13,443][INFO] File downloaded successfully from https://research.cytomine.be/api/imageinstance/526172927/window-65173-36352-12517-12517.png with parameters {'bits': 8, 'complete': True, 'maxSize': 512}\n",
      "[2021-08-21 20:03:13,527][INFO] [GET] [annotation] 526757075 | 200 OK\n",
      "[2021-08-21 20:03:13,590][INFO] [GET] [imageinstance] 526172461 : PKR-2-pdl1.ndpi | 200 OK\n",
      "\t\t526756977 (from 526176189) MAPPED TO 526757075 (from 526172461)\n",
      "7\n",
      "[2021-08-21 20:03:14,282][INFO] File downloaded successfully from https://research.cytomine.be/api/imageinstance/526176189/window-50147-32563-18776-18776.png with parameters {'bits': 8, 'complete': True, 'maxSize': 1024}\n",
      "[2021-08-21 20:03:14,872][INFO] File downloaded successfully from https://research.cytomine.be/api/imageinstance/526172461/window-39089-34894-12517-12517.png with parameters {'bits': 8, 'complete': True, 'maxSize': 512}\n",
      "[2021-08-21 20:03:14,952][INFO] [GET] [annotation] 526757089 | 200 OK\n",
      "[2021-08-21 20:03:15,014][INFO] [GET] [imageinstance] 526171995 : PKR-2-p53_d240_cald_maspin.ndpi | 200 OK\n",
      "\t\t526756977 (from 526176189) MAPPED TO 526757089 (from 526171995)\n",
      "8\n"
     ]
    }
   ],
   "source": [
    "bd.build_all(annot_group_coll, dataset_folder=\"dataset_custom//\")"
   ]
  },
  {
   "cell_type": "code",
   "execution_count": null,
   "id": "historical-league",
   "metadata": {},
   "outputs": [],
   "source": []
  }
 ],
 "metadata": {
  "kernelspec": {
   "display_name": "Python 3",
   "language": "python",
   "name": "python3"
  },
  "language_info": {
   "codemirror_mode": {
    "name": "ipython",
    "version": 3
   },
   "file_extension": ".py",
   "mimetype": "text/x-python",
   "name": "python",
   "nbconvert_exporter": "python",
   "pygments_lexer": "ipython3",
   "version": "3.8.5"
  }
 },
 "nbformat": 4,
 "nbformat_minor": 5
}
