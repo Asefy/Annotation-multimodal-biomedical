{
 "cells": [
  {
   "cell_type": "code",
   "execution_count": 1,
   "id": "angry-eleven",
   "metadata": {},
   "outputs": [],
   "source": [
    "from cytomine import Cytomine\n",
    "from cytomine.models import ImageInstanceCollection, ImageInstance\n",
    "import logging\n",
    "\n",
    "import os"
   ]
  },
  {
   "cell_type": "code",
   "execution_count": 2,
   "id": "contained-contact",
   "metadata": {},
   "outputs": [
    {
     "name": "stdout",
     "output_type": "stream",
     "text": [
      "[2021-08-21 19:15:55,989][INFO] [GET] [currentuser] CURRENT USER - 177562932 : sbernard | 200 OK\n",
      "[currentuser] CURRENT USER - 177562932 : sbernard\n"
     ]
    }
   ],
   "source": [
    "host=\"https://research.cytomine.be/\"\n",
    "\n",
    "# FILL IN WITH YOUR PUBLIC/PRIVATE KEY\n",
    "public_key=\"xxxxxxxx-xxxx-xxxx-xxxx-xxxxxxxxxxxx\"\n",
    "private_key=\"xxxxxxxx-xxxx-xxxx-xxxx-xxxxxxxxxxxx\"\n",
    "\n",
    "cytomine = Cytomine.connect(host, public_key, private_key)\n",
    "print(cytomine.current_user)\n",
    "\n",
    "# CHANGE ID PROJECT IF NOT WORKING ON \"KI-gastrointestinal\"\n",
    "id_project = 526102245 "
   ]
  },
  {
   "cell_type": "code",
   "execution_count": 4,
   "id": "bigger-equipment",
   "metadata": {},
   "outputs": [
    {
     "name": "stdout",
     "output_type": "stream",
     "text": [
      "[2021-08-21 19:16:05,679][INFO] [GET] [imageinstance collection] 291 objects | 200 OK\n",
      "Image ID: 532630012 | Filename: PKR-15-ki67_vim.ndpi\n",
      "[2021-08-21 19:16:07,111][INFO] File downloaded successfully from https://research.cytomine.be/api/imageinstance/532630012/thumb.jpg with parameters {'maxSize': 512, 'bits': 8}\n"
     ]
    }
   ],
   "source": [
    "download_folder = \"ORB-SIFT (OpenCV)\"\n",
    "\n",
    "image_instances = ImageInstanceCollection().fetch_with_filter(\"project\", id_project)\n",
    "for image in image_instances:\n",
    "    print(\"Image ID: {} | Filename: {}\".format(image.id, image.filename))\n",
    "    image.dump(dest_pattern=os.path.join(download_folder, \"fetched_imgs\", \"{originalFilename}.jpg\"), max_size=512)\n",
    "    break"
   ]
  },
  {
   "cell_type": "code",
   "execution_count": null,
   "id": "moving-pipeline",
   "metadata": {},
   "outputs": [],
   "source": []
  }
 ],
 "metadata": {
  "kernelspec": {
   "display_name": "Python 3",
   "language": "python",
   "name": "python3"
  },
  "language_info": {
   "codemirror_mode": {
    "name": "ipython",
    "version": 3
   },
   "file_extension": ".py",
   "mimetype": "text/x-python",
   "name": "python",
   "nbconvert_exporter": "python",
   "pygments_lexer": "ipython3",
   "version": "3.8.5"
  }
 },
 "nbformat": 4,
 "nbformat_minor": 5
}
